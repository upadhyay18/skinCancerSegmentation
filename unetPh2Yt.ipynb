{
  "nbformat": 4,
  "nbformat_minor": 0,
  "metadata": {
    "colab": {
      "name": "unetPh2Yt",
      "provenance": [],
      "collapsed_sections": []
    },
    "kernelspec": {
      "name": "python3",
      "display_name": "Python 3"
    },
    "language_info": {
      "name": "python"
    },
    "accelerator": "GPU"
  },
  "cells": [
    {
      "cell_type": "code",
      "source": [
        "!rm -r sample_data"
      ],
      "metadata": {
        "id": "TIkF0AZoEvrD"
      },
      "execution_count": null,
      "outputs": []
    },
    {
      "cell_type": "code",
      "source": [
        "!unzip /content/drive/MyDrive/Segmentation/dataSet/ph2dataset.zip"
      ],
      "metadata": {
        "id": "YiHbS30vFBYe"
      },
      "execution_count": null,
      "outputs": []
    },
    {
      "cell_type": "code",
      "source": [
        "import os\n",
        "os.environ[\"TF_CPP_MIN_LOG_LEVEL\"] = \"2\"\n",
        "import numpy as np\n",
        "import cv2\n",
        "from glob import glob\n",
        "from sklearn.utils import shuffle\n",
        "from sklearn.model_selection import train_test_split\n",
        "import tensorflow as tf\n",
        "from tensorflow.keras.callbacks import ModelCheckpoint, CSVLogger, ReduceLROnPlateau, EarlyStopping, TensorBoard\n",
        "from tensorflow.keras.optimizers import Adam"
      ],
      "metadata": {
        "id": "_rccDdPYFr6d"
      },
      "execution_count": null,
      "outputs": []
    },
    {
      "cell_type": "code",
      "source": [
        "H = 256\n",
        "W = 256\n",
        "\n",
        "def create_dir(path):\n",
        "    if not os.path.exists(path):\n",
        "        os.makedirs(path)\n",
        "\n",
        "def shuffling(x, y):\n",
        "    x, y = shuffle(x, y, random_state=42)\n",
        "    return x, y\n"
      ],
      "metadata": {
        "id": "-I_RA1ieF7Ix"
      },
      "execution_count": null,
      "outputs": []
    },
    {
      "cell_type": "code",
      "source": [
        "# augmenting data\n",
        "import cv2\n",
        "from glob import glob\n",
        "from albumentations import CenterCrop, RandomRotate90, HorizontalFlip, VerticalFlip\n",
        "from tqdm import tqdm\n",
        "\n",
        "def augment(images,masks,save_path,augment_data=True):\n",
        "  H=256\n",
        "  W=256\n",
        "  for x,y in tqdm(zip(images,masks),total=len(images)):\n",
        "    name=x.split('/')[-1].split(\".\")\n",
        "    img_name=name[0]\n",
        "    img_ext=name[1]\n",
        "\n",
        "    name=x.split('/')[-1].split(\".\")\n",
        "    mask_name=name[0]\n",
        "    mask_ext=name[1]\n",
        "\n",
        "    x=cv2.imread(x,cv2.IMREAD_COLOR)\n",
        "    y=cv2.imread(y,cv2.IMREAD_COLOR)\n",
        "    #print(x.shape)\n",
        "    #print(y.shape)\n",
        "\n",
        "    if augment_data==True:\n",
        "      # Randome rotate\n",
        "      aug=RandomRotate90(p=0.8)\n",
        "      augmented=aug(image=x,mask=y)\n",
        "      x2=augmented['image']\n",
        "      y2=augmented['mask']\n",
        "      # vertical Flip\n",
        "      aug=VerticalFlip(p=0.6)\n",
        "      augmented=aug(image=x,mask=y)\n",
        "      x3=augmented['image']\n",
        "      y3=augmented['mask']\n",
        "      # Horizontal Flip Flip\n",
        "      aug=HorizontalFlip(p=0.7)\n",
        "      augmented=aug(image=x,mask=y)\n",
        "      x4=augmented['image']\n",
        "      y4=augmented['mask']\n",
        "      #Save file\n",
        "      save_images=[x,x2,x3,x4]\n",
        "      save_masks=[y,y2,y3,y4]\n",
        "    else:\n",
        "      save_images=[x]\n",
        "      save_masks=[y]\n",
        "    idx=0\n",
        "    for i,m in zip(save_images,save_masks):\n",
        "      i=cv2.resize(i,(W,H))\n",
        "      m=cv2.resize(m,(W,H))\n",
        "      tmp_img_name=f\"{img_name}_{idx}.{img_ext}\"\n",
        "      tmp_mask_name=f\"{mask_name}_{idx}.{mask_ext}\"\n",
        "      image_path=os.path.join(save_path,\"image\",tmp_img_name)\n",
        "      mask_path=os.path.join(save_path,\"mask\",tmp_mask_name)\n",
        "      cv2.imwrite(image_path,i)\n",
        "      cv2.imwrite(mask_path,m)\n",
        "      idx+=1"
      ],
      "metadata": {
        "id": "u_sFhI7LDfco"
      },
      "execution_count": null,
      "outputs": []
    },
    {
      "cell_type": "code",
      "source": [
        "create_dir(\"augDataset\")\n",
        "create_dir(\"augDataset/image\")\n",
        "create_dir(\"augDataset/mask\")"
      ],
      "metadata": {
        "id": "Qpgh3D-DDpll"
      },
      "execution_count": null,
      "outputs": []
    },
    {
      "cell_type": "code",
      "source": [
        "path='/content/ph2_dataset'\n",
        "images=sorted(glob(os.path.join(path,\"trainx/*\")))\n",
        "masks=sorted(glob(os.path.join(path,\"trainy/*\")))\n",
        "print(f\"Orignal Image: {len(images)}\")\n",
        "print(f\"Orignal Masks: {len(masks)}\")"
      ],
      "metadata": {
        "colab": {
          "base_uri": "https://localhost:8080/"
        },
        "id": "aU92pkopD4sz",
        "outputId": "b530497f-e061-4771-9c42-d45c0965ecad"
      },
      "execution_count": null,
      "outputs": [
        {
          "output_type": "stream",
          "name": "stdout",
          "text": [
            "Orignal Image: 200\n",
            "Orignal Masks: 200\n"
          ]
        }
      ]
    },
    {
      "cell_type": "code",
      "source": [
        "augment(images,masks,'/content/augDataset',True)"
      ],
      "metadata": {
        "colab": {
          "base_uri": "https://localhost:8080/"
        },
        "id": "fK6ohQRyD7jB",
        "outputId": "450a3b4d-05ae-40c5-a85e-148dee81610b"
      },
      "execution_count": null,
      "outputs": [
        {
          "output_type": "stream",
          "name": "stderr",
          "text": [
            "100%|██████████| 200/200 [00:04<00:00, 49.26it/s]\n"
          ]
        }
      ]
    },
    {
      "cell_type": "code",
      "source": [
        "# remove unwanted folders\n",
        "!rm -r /content/ph2_dataset\n",
        "!rm -r /content/trainx\n",
        "!rm -r /content/trainy"
      ],
      "metadata": {
        "id": "BG4AqeKf6jJE"
      },
      "execution_count": null,
      "outputs": []
    },
    {
      "cell_type": "code",
      "source": [
        "path='/content/augDataset'\n",
        "images=sorted(glob(os.path.join(path,\"image/*\")))\n",
        "masks=sorted(glob(os.path.join(path,\"mask/*\")))\n",
        "print(f\"Augmented Image: {len(images)}\")\n",
        "print(f\"Augmented Masks: {len(masks)}\")"
      ],
      "metadata": {
        "colab": {
          "base_uri": "https://localhost:8080/"
        },
        "id": "T6z3pZEKD-t0",
        "outputId": "9ad9f7b4-224d-4f92-abcc-16d8d769a451"
      },
      "execution_count": null,
      "outputs": [
        {
          "output_type": "stream",
          "name": "stdout",
          "text": [
            "Augmented Image: 800\n",
            "Augmented Masks: 800\n"
          ]
        }
      ]
    },
    {
      "cell_type": "code",
      "source": [
        "def load_data(dataset_path, split=0.2):\n",
        "    images = sorted(glob(os.path.join(dataset_path, \"image\", \"*.bmp\")))\n",
        "    masks = sorted(glob(os.path.join(dataset_path, \"mask\", \"*.bmp\")))\n",
        "    #print(type(images))\n",
        "    test_size = int(len(images) * split)\n",
        "\n",
        "    train_x, valid_x = train_test_split(images, test_size=test_size, random_state=42)\n",
        "    train_y, valid_y = train_test_split(masks, test_size=test_size, random_state=42)\n",
        "\n",
        "    train_x, test_x = train_test_split(train_x, test_size=test_size, random_state=42)\n",
        "    train_y, test_y = train_test_split(train_y, test_size=test_size, random_state=42)\n",
        "\n",
        "    return (train_x, train_y), (valid_x, valid_y), (test_x, test_y)"
      ],
      "metadata": {
        "id": "1eF_ejjGGCrG"
      },
      "execution_count": null,
      "outputs": []
    },
    {
      "cell_type": "code",
      "source": [
        "def read_image(path):\n",
        "    path = path.decode()\n",
        "    x = cv2.imread(path, cv2.IMREAD_COLOR)  ## (H, W, 3)\n",
        "    x = cv2.resize(x, (W, H))\n",
        "    x = x/255.0\n",
        "    x = x.astype(np.float32)\n",
        "    return x                                ## (256, 256, 3)\n",
        "\n",
        "def read_mask(path):\n",
        "    path = path.decode()\n",
        "    x = cv2.imread(path, cv2.IMREAD_GRAYSCALE)  ## (H, W)\n",
        "    x = cv2.resize(x, (W, H))\n",
        "    x = x/255.0\n",
        "    x = x.astype(np.float32)                    ## (256, 256)\n",
        "    x = np.expand_dims(x, axis=-1)              ## (256, 256, 1)\n",
        "    return x"
      ],
      "metadata": {
        "id": "Ocz7_TL3GNBe"
      },
      "execution_count": null,
      "outputs": []
    },
    {
      "cell_type": "code",
      "source": [
        "def tf_parse(x, y):\n",
        "    def _parse(x, y):\n",
        "        x = read_image(x)\n",
        "        y = read_mask(y)\n",
        "        return x, y\n",
        "\n",
        "    x, y = tf.numpy_function(_parse, [x, y], [tf.float32, tf.float32])\n",
        "    x.set_shape([H, W, 3])\n",
        "    y.set_shape([H, W, 1])\n",
        "    return x, y\n",
        "\n",
        "def tf_dataset(X, Y, batch):\n",
        "    dataset = tf.data.Dataset.from_tensor_slices((X, Y))\n",
        "    dataset = dataset.map(tf_parse)\n",
        "    dataset = dataset.batch(batch)\n",
        "    dataset = dataset.prefetch(10)\n",
        "    return dataset"
      ],
      "metadata": {
        "id": "_R-H0fEzJavI"
      },
      "execution_count": null,
      "outputs": []
    },
    {
      "cell_type": "code",
      "source": [
        "\"\"\" Folder For saving result\"\"\"\n",
        "create_dir(\"Files\")"
      ],
      "metadata": {
        "id": "C5hUz50OGY25"
      },
      "execution_count": null,
      "outputs": []
    },
    {
      "cell_type": "code",
      "source": [
        "# seeding \n",
        "\n",
        "np.random.seed(42)\n",
        "tf.random.set_seed(42)"
      ],
      "metadata": {
        "id": "jmyWaBK3HMNd"
      },
      "execution_count": null,
      "outputs": []
    },
    {
      "cell_type": "code",
      "source": [
        "\"\"\" Hyperparameters \"\"\"\n",
        "batch_size = 16\n",
        "lr = 1e-4 ## (0.0001)\n",
        "num_epoch = 50"
      ],
      "metadata": {
        "id": "PFZTW8drHYs6"
      },
      "execution_count": null,
      "outputs": []
    },
    {
      "cell_type": "code",
      "source": [
        "\"\"\" Dataset : 60/20/20 \"\"\"\n",
        "dataset_path = \"/content/augDataset\"\n",
        "(train_x, train_y), (valid_x, valid_y), (test_x, test_y) = load_data(dataset_path)\n"
      ],
      "metadata": {
        "id": "EYDS1X-nHp7L"
      },
      "execution_count": null,
      "outputs": []
    },
    {
      "cell_type": "code",
      "source": [
        "print(f\"Train: {len(train_x)} - {len(train_y)}\")\n",
        "print(f\"Valid: {len(valid_x)} - {len(valid_y)}\")\n",
        "print(f\"Test: {len(test_x)} - {len(test_y)}\")"
      ],
      "metadata": {
        "colab": {
          "base_uri": "https://localhost:8080/"
        },
        "id": "g6-Z-5HKIGIA",
        "outputId": "9322b7ed-f8d9-4b54-c0dd-fd8ed038c2b1"
      },
      "execution_count": null,
      "outputs": [
        {
          "output_type": "stream",
          "name": "stdout",
          "text": [
            "Train: 480 - 480\n",
            "Valid: 160 - 160\n",
            "Test: 160 - 160\n"
          ]
        }
      ]
    },
    {
      "cell_type": "code",
      "source": [
        "train_dataset = tf_dataset(train_x, train_y, batch_size)\n",
        "valid_dataset = tf_dataset(valid_x, valid_y, batch_size)\n",
        "test_dataset = tf_dataset(test_x, test_y, batch_size)"
      ],
      "metadata": {
        "id": "pxXG9VT2IsNE"
      },
      "execution_count": null,
      "outputs": []
    },
    {
      "cell_type": "code",
      "source": [
        "train_steps = len(train_x)//batch_size\n",
        "valid_steps = len(valid_x)//batch_size\n",
        "test_steps = len(test_x)//batch_size"
      ],
      "metadata": {
        "id": "H85wc_EyI89T"
      },
      "execution_count": null,
      "outputs": []
    },
    {
      "cell_type": "code",
      "source": [
        "\n",
        "if len(train_x) % batch_size != 0:\n",
        "  train_steps += 1\n",
        "\n",
        "if len(valid_x) % batch_size != 0:\n",
        "  valid_steps += 1\n",
        "\n",
        "if len(test_x) % batch_size != 0:\n",
        "  test_steps += 1"
      ],
      "metadata": {
        "id": "2E2opwc3Jmlt"
      },
      "execution_count": null,
      "outputs": []
    },
    {
      "cell_type": "code",
      "source": [
        "import numpy as np\n",
        "import tensorflow as tf\n",
        "from tensorflow.keras import backend as K\n",
        "\n",
        "def iou(y_true, y_pred):\n",
        "    def f(y_true, y_pred):\n",
        "        intersection = (y_true * y_pred).sum()\n",
        "        union = y_true.sum() + y_pred.sum() - intersection\n",
        "        x = (intersection + 1e-15) / (union + 1e-15)\n",
        "        x = x.astype(np.float32)\n",
        "        return x\n",
        "    return tf.numpy_function(f, [y_true, y_pred], tf.float32)\n",
        "\n",
        "smooth = 1e-15\n",
        "def dice_coef(y_true, y_pred):\n",
        "    y_true = tf.keras.layers.Flatten()(y_true)\n",
        "    y_pred = tf.keras.layers.Flatten()(y_pred)\n",
        "    intersection = tf.reduce_sum(y_true * y_pred)\n",
        "    return (2. * intersection + smooth) / (tf.reduce_sum(y_true) + tf.reduce_sum(y_pred) + smooth)\n",
        "\n",
        "def dice_loss(y_true, y_pred):\n",
        "    return 1.0 - dice_coef(y_true, y_pred)"
      ],
      "metadata": {
        "id": "gsG3S4GnKn6W"
      },
      "execution_count": null,
      "outputs": []
    },
    {
      "cell_type": "code",
      "source": [
        "inputs = tf.keras.layers.Input((256, 256, 3))\n",
        "s = tf.keras.layers.Lambda(lambda x: x / 255)(inputs)\n",
        "\n",
        "\n",
        "#Contraction path\n",
        "c1 = tf.keras.layers.Conv2D(16, (3, 3), activation='relu', kernel_initializer='he_normal', padding='same')(s)\n",
        "c1 = tf.keras.layers.Dropout(0.1)(c1)\n",
        "c1 = tf.keras.layers.Conv2D(16, (3, 3), activation='relu', kernel_initializer='he_normal', padding='same')(c1)\n",
        "p1 = tf.keras.layers.MaxPooling2D((2, 2))(c1)\n",
        "\n",
        "c2 = tf.keras.layers.Conv2D(32, (3, 3), activation='relu', kernel_initializer='he_normal', padding='same')(p1)\n",
        "c2 = tf.keras.layers.Dropout(0.1)(c2)\n",
        "c2 = tf.keras.layers.Conv2D(32, (3, 3), activation='relu', kernel_initializer='he_normal', padding='same')(c2)\n",
        "p2 = tf.keras.layers.MaxPooling2D((2, 2))(c2)\n",
        "\n",
        "c3 = tf.keras.layers.Conv2D(64, (3, 3), activation='relu', kernel_initializer='he_normal', padding='same')(p2)\n",
        "c3 = tf.keras.layers.Dropout(0.2)(c3)\n",
        "c3 = tf.keras.layers.Conv2D(64, (3, 3), activation='relu', kernel_initializer='he_normal', padding='same')(c3)\n",
        "p3 = tf.keras.layers.MaxPooling2D((2, 2))(c3)\n",
        "\n",
        "c4 = tf.keras.layers.Conv2D(128, (3, 3), activation='relu', kernel_initializer='he_normal', padding='same')(p3)\n",
        "c4 = tf.keras.layers.Dropout(0.2)(c4)\n",
        "c4 = tf.keras.layers.Conv2D(128, (3, 3), activation='relu', kernel_initializer='he_normal', padding='same')(c4)\n",
        "p4 = tf.keras.layers.MaxPooling2D(pool_size=(2, 2))(c4)\n",
        "\n",
        "c5 = tf.keras.layers.Conv2D(256, (3, 3), activation='relu', kernel_initializer='he_normal', padding='same')(p4)\n",
        "c5 = tf.keras.layers.Dropout(0.3)(c5)\n",
        "c5 = tf.keras.layers.Conv2D(256, (3, 3), activation='relu', kernel_initializer='he_normal', padding='same')(c5)\n",
        "\n",
        "\n",
        "#Expansive path \n",
        "u6 = tf.keras.layers.Conv2DTranspose(128, (2, 2), strides=(2, 2), padding='same')(c5)\n",
        "u6 = tf.keras.layers.concatenate([u6, c4])\n",
        "c6 = tf.keras.layers.Conv2D(128, (3, 3), activation='relu', kernel_initializer='he_normal', padding='same')(u6)\n",
        "c6 = tf.keras.layers.Dropout(0.2)(c6)\n",
        "c6 = tf.keras.layers.Conv2D(128, (3, 3), activation='relu', kernel_initializer='he_normal', padding='same')(c6)\n",
        "\n",
        "u7 = tf.keras.layers.Conv2DTranspose(64, (2, 2), strides=(2, 2), padding='same')(c6)\n",
        "u7 = tf.keras.layers.concatenate([u7, c3])\n",
        "c7 = tf.keras.layers.Conv2D(64, (3, 3), activation='relu', kernel_initializer='he_normal', padding='same')(u7)\n",
        "c7 = tf.keras.layers.Dropout(0.2)(c7)\n",
        "c7 = tf.keras.layers.Conv2D(64, (3, 3), activation='relu', kernel_initializer='he_normal', padding='same')(c7)\n",
        " \n",
        "u8 = tf.keras.layers.Conv2DTranspose(32, (2, 2), strides=(2, 2), padding='same')(c7)\n",
        "u8 = tf.keras.layers.concatenate([u8, c2])\n",
        "c8 = tf.keras.layers.Conv2D(32, (3, 3), activation='relu', kernel_initializer='he_normal', padding='same')(u8)\n",
        "c8 = tf.keras.layers.Dropout(0.1)(c8)\n",
        "c8 = tf.keras.layers.Conv2D(32, (3, 3), activation='relu', kernel_initializer='he_normal', padding='same')(c8)\n",
        "\n",
        "u9 = tf.keras.layers.Conv2DTranspose(16, (2, 2), strides=(2, 2), padding='same')(c8)\n",
        "u9 = tf.keras.layers.concatenate([u9, c1], axis=3)\n",
        "c9 = tf.keras.layers.Conv2D(16, (3, 3), activation='relu', kernel_initializer='he_normal', padding='same')(u9)\n",
        "c9 = tf.keras.layers.Dropout(0.1)(c9)\n",
        "c9 = tf.keras.layers.Conv2D(16, (3, 3), activation='relu', kernel_initializer='he_normal', padding='same')(c9)\n",
        " \n",
        "outputs = tf.keras.layers.Conv2D(1, (1, 1), activation='sigmoid')(c9)\n",
        " \n",
        "model = tf.keras.Model(inputs=[inputs], outputs=[outputs])"
      ],
      "metadata": {
        "id": "uXurd2xH88Je"
      },
      "execution_count": null,
      "outputs": []
    },
    {
      "cell_type": "code",
      "source": [
        "\n",
        "from tensorflow.keras.optimizers import Adam\n",
        "from tensorflow.keras.metrics import Recall, Precision\n",
        "\n",
        "metrics = [dice_coef, iou, Recall(), Precision()]\n",
        "model.compile(loss=\"binary_crossentropy\", optimizer=Adam(lr), metrics=metrics)\n",
        "model.summary()"
      ],
      "metadata": {
        "colab": {
          "base_uri": "https://localhost:8080/"
        },
        "id": "6k6RljqF9ETO",
        "outputId": "b53336b5-9cc7-4cf6-bc74-aacfadaf4b1c"
      },
      "execution_count": null,
      "outputs": [
        {
          "output_type": "stream",
          "name": "stdout",
          "text": [
            "Model: \"model_2\"\n",
            "__________________________________________________________________________________________________\n",
            " Layer (type)                   Output Shape         Param #     Connected to                     \n",
            "==================================================================================================\n",
            " input_3 (InputLayer)           [(None, 256, 256, 3  0           []                               \n",
            "                                )]                                                                \n",
            "                                                                                                  \n",
            " lambda (Lambda)                (None, 256, 256, 3)  0           ['input_3[0][0]']                \n",
            "                                                                                                  \n",
            " conv2d_38 (Conv2D)             (None, 256, 256, 16  448         ['lambda[0][0]']                 \n",
            "                                )                                                                 \n",
            "                                                                                                  \n",
            " dropout (Dropout)              (None, 256, 256, 16  0           ['conv2d_38[0][0]']              \n",
            "                                )                                                                 \n",
            "                                                                                                  \n",
            " conv2d_39 (Conv2D)             (None, 256, 256, 16  2320        ['dropout[0][0]']                \n",
            "                                )                                                                 \n",
            "                                                                                                  \n",
            " max_pooling2d_8 (MaxPooling2D)  (None, 128, 128, 16  0          ['conv2d_39[0][0]']              \n",
            "                                )                                                                 \n",
            "                                                                                                  \n",
            " conv2d_40 (Conv2D)             (None, 128, 128, 32  4640        ['max_pooling2d_8[0][0]']        \n",
            "                                )                                                                 \n",
            "                                                                                                  \n",
            " dropout_1 (Dropout)            (None, 128, 128, 32  0           ['conv2d_40[0][0]']              \n",
            "                                )                                                                 \n",
            "                                                                                                  \n",
            " conv2d_41 (Conv2D)             (None, 128, 128, 32  9248        ['dropout_1[0][0]']              \n",
            "                                )                                                                 \n",
            "                                                                                                  \n",
            " max_pooling2d_9 (MaxPooling2D)  (None, 64, 64, 32)  0           ['conv2d_41[0][0]']              \n",
            "                                                                                                  \n",
            " conv2d_42 (Conv2D)             (None, 64, 64, 64)   18496       ['max_pooling2d_9[0][0]']        \n",
            "                                                                                                  \n",
            " dropout_2 (Dropout)            (None, 64, 64, 64)   0           ['conv2d_42[0][0]']              \n",
            "                                                                                                  \n",
            " conv2d_43 (Conv2D)             (None, 64, 64, 64)   36928       ['dropout_2[0][0]']              \n",
            "                                                                                                  \n",
            " max_pooling2d_10 (MaxPooling2D  (None, 32, 32, 64)  0           ['conv2d_43[0][0]']              \n",
            " )                                                                                                \n",
            "                                                                                                  \n",
            " conv2d_44 (Conv2D)             (None, 32, 32, 128)  73856       ['max_pooling2d_10[0][0]']       \n",
            "                                                                                                  \n",
            " dropout_3 (Dropout)            (None, 32, 32, 128)  0           ['conv2d_44[0][0]']              \n",
            "                                                                                                  \n",
            " conv2d_45 (Conv2D)             (None, 32, 32, 128)  147584      ['dropout_3[0][0]']              \n",
            "                                                                                                  \n",
            " max_pooling2d_11 (MaxPooling2D  (None, 16, 16, 128)  0          ['conv2d_45[0][0]']              \n",
            " )                                                                                                \n",
            "                                                                                                  \n",
            " conv2d_46 (Conv2D)             (None, 16, 16, 256)  295168      ['max_pooling2d_11[0][0]']       \n",
            "                                                                                                  \n",
            " dropout_4 (Dropout)            (None, 16, 16, 256)  0           ['conv2d_46[0][0]']              \n",
            "                                                                                                  \n",
            " conv2d_47 (Conv2D)             (None, 16, 16, 256)  590080      ['dropout_4[0][0]']              \n",
            "                                                                                                  \n",
            " conv2d_transpose_8 (Conv2DTran  (None, 32, 32, 128)  131200     ['conv2d_47[0][0]']              \n",
            " spose)                                                                                           \n",
            "                                                                                                  \n",
            " concatenate_8 (Concatenate)    (None, 32, 32, 256)  0           ['conv2d_transpose_8[0][0]',     \n",
            "                                                                  'conv2d_45[0][0]']              \n",
            "                                                                                                  \n",
            " conv2d_48 (Conv2D)             (None, 32, 32, 128)  295040      ['concatenate_8[0][0]']          \n",
            "                                                                                                  \n",
            " dropout_5 (Dropout)            (None, 32, 32, 128)  0           ['conv2d_48[0][0]']              \n",
            "                                                                                                  \n",
            " conv2d_49 (Conv2D)             (None, 32, 32, 128)  147584      ['dropout_5[0][0]']              \n",
            "                                                                                                  \n",
            " conv2d_transpose_9 (Conv2DTran  (None, 64, 64, 64)  32832       ['conv2d_49[0][0]']              \n",
            " spose)                                                                                           \n",
            "                                                                                                  \n",
            " concatenate_9 (Concatenate)    (None, 64, 64, 128)  0           ['conv2d_transpose_9[0][0]',     \n",
            "                                                                  'conv2d_43[0][0]']              \n",
            "                                                                                                  \n",
            " conv2d_50 (Conv2D)             (None, 64, 64, 64)   73792       ['concatenate_9[0][0]']          \n",
            "                                                                                                  \n",
            " dropout_6 (Dropout)            (None, 64, 64, 64)   0           ['conv2d_50[0][0]']              \n",
            "                                                                                                  \n",
            " conv2d_51 (Conv2D)             (None, 64, 64, 64)   36928       ['dropout_6[0][0]']              \n",
            "                                                                                                  \n",
            " conv2d_transpose_10 (Conv2DTra  (None, 128, 128, 32  8224       ['conv2d_51[0][0]']              \n",
            " nspose)                        )                                                                 \n",
            "                                                                                                  \n",
            " concatenate_10 (Concatenate)   (None, 128, 128, 64  0           ['conv2d_transpose_10[0][0]',    \n",
            "                                )                                 'conv2d_41[0][0]']              \n",
            "                                                                                                  \n",
            " conv2d_52 (Conv2D)             (None, 128, 128, 32  18464       ['concatenate_10[0][0]']         \n",
            "                                )                                                                 \n",
            "                                                                                                  \n",
            " dropout_7 (Dropout)            (None, 128, 128, 32  0           ['conv2d_52[0][0]']              \n",
            "                                )                                                                 \n",
            "                                                                                                  \n",
            " conv2d_53 (Conv2D)             (None, 128, 128, 32  9248        ['dropout_7[0][0]']              \n",
            "                                )                                                                 \n",
            "                                                                                                  \n",
            " conv2d_transpose_11 (Conv2DTra  (None, 256, 256, 16  2064       ['conv2d_53[0][0]']              \n",
            " nspose)                        )                                                                 \n",
            "                                                                                                  \n",
            " concatenate_11 (Concatenate)   (None, 256, 256, 32  0           ['conv2d_transpose_11[0][0]',    \n",
            "                                )                                 'conv2d_39[0][0]']              \n",
            "                                                                                                  \n",
            " conv2d_54 (Conv2D)             (None, 256, 256, 16  4624        ['concatenate_11[0][0]']         \n",
            "                                )                                                                 \n",
            "                                                                                                  \n",
            " dropout_8 (Dropout)            (None, 256, 256, 16  0           ['conv2d_54[0][0]']              \n",
            "                                )                                                                 \n",
            "                                                                                                  \n",
            " conv2d_55 (Conv2D)             (None, 256, 256, 16  2320        ['dropout_8[0][0]']              \n",
            "                                )                                                                 \n",
            "                                                                                                  \n",
            " conv2d_56 (Conv2D)             (None, 256, 256, 1)  17          ['conv2d_55[0][0]']              \n",
            "                                                                                                  \n",
            "==================================================================================================\n",
            "Total params: 1,941,105\n",
            "Trainable params: 1,941,105\n",
            "Non-trainable params: 0\n",
            "__________________________________________________________________________________________________\n"
          ]
        }
      ]
    },
    {
      "cell_type": "code",
      "source": [
        "model_path=\"/content/Files/model.h5\"\n",
        "csv_path=\"/content/Files/data.csv\"\n",
        "callbacks = [\n",
        "        ModelCheckpoint(model_path, verbose=1, save_best_only=True),\n",
        "        ReduceLROnPlateau(monitor='val_loss', factor=0.1, patience=5, min_lr=1e-7, verbose=1),\n",
        "        CSVLogger(csv_path),\n",
        "        TensorBoard(),\n",
        "        EarlyStopping(monitor='val_loss', patience=10, restore_best_weights=False)\n",
        "]"
      ],
      "metadata": {
        "id": "K9osm9D0KjYF"
      },
      "execution_count": null,
      "outputs": []
    },
    {
      "cell_type": "code",
      "source": [
        "model.fit(\n",
        "        train_dataset,\n",
        "        epochs=num_epoch,\n",
        "        validation_data=valid_dataset,\n",
        "        steps_per_epoch=train_steps,\n",
        "        validation_steps=valid_steps,\n",
        "        callbacks=callbacks\n",
        "    )"
      ],
      "metadata": {
        "colab": {
          "base_uri": "https://localhost:8080/"
        },
        "id": "usezafzcKxAd",
        "outputId": "edb808b5-2a0e-4120-9362-35773dc09c1f"
      },
      "execution_count": null,
      "outputs": [
        {
          "output_type": "stream",
          "name": "stdout",
          "text": [
            "Epoch 1/50\n",
            "30/30 [==============================] - ETA: 0s - loss: 0.6344 - dice_coef: 0.3335 - iou: 0.2005 - recall_3: 5.8500e-05 - precision_3: 0.1584\n",
            "Epoch 1: val_loss improved from inf to 0.64015, saving model to /content/Files/model.h5\n",
            "30/30 [==============================] - 8s 195ms/step - loss: 0.6344 - dice_coef: 0.3335 - iou: 0.2005 - recall_3: 5.8500e-05 - precision_3: 0.1584 - val_loss: 0.6402 - val_dice_coef: 0.3666 - val_iou: 0.2248 - val_recall_3: 0.0000e+00 - val_precision_3: 0.0000e+00 - lr: 1.0000e-04\n",
            "Epoch 2/50\n",
            "30/30 [==============================] - ETA: 0s - loss: 0.5833 - dice_coef: 0.3435 - iou: 0.2079 - recall_3: 1.8807e-06 - precision_3: 0.0486\n",
            "Epoch 2: val_loss improved from 0.64015 to 0.56583, saving model to /content/Files/model.h5\n",
            "30/30 [==============================] - 5s 177ms/step - loss: 0.5833 - dice_coef: 0.3435 - iou: 0.2079 - recall_3: 1.8807e-06 - precision_3: 0.0486 - val_loss: 0.5658 - val_dice_coef: 0.3874 - val_iou: 0.2405 - val_recall_3: 0.0000e+00 - val_precision_3: 0.0000e+00 - lr: 1.0000e-04\n",
            "Epoch 3/50\n",
            "30/30 [==============================] - ETA: 0s - loss: 0.4806 - dice_coef: 0.4326 - iou: 0.2768 - recall_3: 2.9696e-07 - precision_3: 0.0244\n",
            "Epoch 3: val_loss improved from 0.56583 to 0.52644, saving model to /content/Files/model.h5\n",
            "30/30 [==============================] - 5s 174ms/step - loss: 0.4806 - dice_coef: 0.4326 - iou: 0.2768 - recall_3: 2.9696e-07 - precision_3: 0.0244 - val_loss: 0.5264 - val_dice_coef: 0.4300 - val_iou: 0.2742 - val_recall_3: 0.0000e+00 - val_precision_3: 0.0000e+00 - lr: 1.0000e-04\n",
            "Epoch 4/50\n",
            "30/30 [==============================] - ETA: 0s - loss: 0.4413 - dice_coef: 0.4769 - iou: 0.3134 - recall_3: 0.0736 - precision_3: 0.9907\n",
            "Epoch 4: val_loss improved from 0.52644 to 0.51117, saving model to /content/Files/model.h5\n",
            "30/30 [==============================] - 5s 175ms/step - loss: 0.4413 - dice_coef: 0.4769 - iou: 0.3134 - recall_3: 0.0736 - precision_3: 0.9907 - val_loss: 0.5112 - val_dice_coef: 0.4427 - val_iou: 0.2847 - val_recall_3: 0.6766 - val_precision_3: 0.8637 - lr: 1.0000e-04\n",
            "Epoch 5/50\n",
            "30/30 [==============================] - ETA: 0s - loss: 0.4191 - dice_coef: 0.4993 - iou: 0.3330 - recall_3: 0.5370 - precision_3: 0.9656\n",
            "Epoch 5: val_loss improved from 0.51117 to 0.49089, saving model to /content/Files/model.h5\n",
            "30/30 [==============================] - 5s 180ms/step - loss: 0.4191 - dice_coef: 0.4993 - iou: 0.3330 - recall_3: 0.5370 - precision_3: 0.9656 - val_loss: 0.4909 - val_dice_coef: 0.4538 - val_iou: 0.2939 - val_recall_3: 0.7687 - val_precision_3: 0.8345 - lr: 1.0000e-04\n",
            "Epoch 6/50\n",
            "30/30 [==============================] - ETA: 0s - loss: 0.4013 - dice_coef: 0.5161 - iou: 0.3480 - recall_3: 0.6614 - precision_3: 0.9453\n",
            "Epoch 6: val_loss improved from 0.49089 to 0.46980, saving model to /content/Files/model.h5\n",
            "30/30 [==============================] - 5s 180ms/step - loss: 0.4013 - dice_coef: 0.5161 - iou: 0.3480 - recall_3: 0.6614 - precision_3: 0.9453 - val_loss: 0.4698 - val_dice_coef: 0.4657 - val_iou: 0.3040 - val_recall_3: 0.8082 - val_precision_3: 0.8294 - lr: 1.0000e-04\n",
            "Epoch 7/50\n",
            "30/30 [==============================] - ETA: 0s - loss: 0.3832 - dice_coef: 0.5345 - iou: 0.3650 - recall_3: 0.7422 - precision_3: 0.9291\n",
            "Epoch 7: val_loss improved from 0.46980 to 0.43626, saving model to /content/Files/model.h5\n",
            "30/30 [==============================] - 5s 175ms/step - loss: 0.3832 - dice_coef: 0.5345 - iou: 0.3650 - recall_3: 0.7422 - precision_3: 0.9291 - val_loss: 0.4363 - val_dice_coef: 0.4902 - val_iou: 0.3252 - val_recall_3: 0.8489 - val_precision_3: 0.8224 - lr: 1.0000e-04\n",
            "Epoch 8/50\n",
            "30/30 [==============================] - ETA: 0s - loss: 0.3365 - dice_coef: 0.6136 - iou: 0.4472 - recall_3: 0.8207 - precision_3: 0.8784\n",
            "Epoch 8: val_loss improved from 0.43626 to 0.28338, saving model to /content/Files/model.h5\n",
            "30/30 [==============================] - 5s 181ms/step - loss: 0.3365 - dice_coef: 0.6136 - iou: 0.4472 - recall_3: 0.8207 - precision_3: 0.8784 - val_loss: 0.2834 - val_dice_coef: 0.6937 - val_iou: 0.5323 - val_recall_3: 0.8432 - val_precision_3: 0.8838 - lr: 1.0000e-04\n",
            "Epoch 9/50\n",
            "30/30 [==============================] - ETA: 0s - loss: 0.2388 - dice_coef: 0.7896 - iou: 0.6530 - recall_3: 0.8247 - precision_3: 0.9123\n",
            "Epoch 9: val_loss improved from 0.28338 to 0.27345, saving model to /content/Files/model.h5\n",
            "30/30 [==============================] - 5s 183ms/step - loss: 0.2388 - dice_coef: 0.7896 - iou: 0.6530 - recall_3: 0.8247 - precision_3: 0.9123 - val_loss: 0.2735 - val_dice_coef: 0.7209 - val_iou: 0.5647 - val_recall_3: 0.8694 - val_precision_3: 0.8658 - lr: 1.0000e-04\n",
            "Epoch 10/50\n",
            "30/30 [==============================] - ETA: 0s - loss: 0.2160 - dice_coef: 0.8091 - iou: 0.6799 - recall_3: 0.8461 - precision_3: 0.9125\n",
            "Epoch 10: val_loss improved from 0.27345 to 0.25662, saving model to /content/Files/model.h5\n",
            "30/30 [==============================] - 5s 182ms/step - loss: 0.2160 - dice_coef: 0.8091 - iou: 0.6799 - recall_3: 0.8461 - precision_3: 0.9125 - val_loss: 0.2566 - val_dice_coef: 0.7280 - val_iou: 0.5733 - val_recall_3: 0.8723 - val_precision_3: 0.8891 - lr: 1.0000e-04\n",
            "Epoch 11/50\n",
            "30/30 [==============================] - ETA: 0s - loss: 0.2011 - dice_coef: 0.8242 - iou: 0.7013 - recall_3: 0.8601 - precision_3: 0.9116\n",
            "Epoch 11: val_loss improved from 0.25662 to 0.24130, saving model to /content/Files/model.h5\n",
            "30/30 [==============================] - 5s 178ms/step - loss: 0.2011 - dice_coef: 0.8242 - iou: 0.7013 - recall_3: 0.8601 - precision_3: 0.9116 - val_loss: 0.2413 - val_dice_coef: 0.7421 - val_iou: 0.5909 - val_recall_3: 0.8675 - val_precision_3: 0.8978 - lr: 1.0000e-04\n",
            "Epoch 12/50\n",
            "30/30 [==============================] - ETA: 0s - loss: 0.1921 - dice_coef: 0.8297 - iou: 0.7095 - recall_3: 0.8651 - precision_3: 0.9162\n",
            "Epoch 12: val_loss improved from 0.24130 to 0.22368, saving model to /content/Files/model.h5\n",
            "30/30 [==============================] - 5s 179ms/step - loss: 0.1921 - dice_coef: 0.8297 - iou: 0.7095 - recall_3: 0.8651 - precision_3: 0.9162 - val_loss: 0.2237 - val_dice_coef: 0.7590 - val_iou: 0.6123 - val_recall_3: 0.8631 - val_precision_3: 0.9177 - lr: 1.0000e-04\n",
            "Epoch 13/50\n",
            "30/30 [==============================] - ETA: 0s - loss: 0.1889 - dice_coef: 0.8341 - iou: 0.7159 - recall_3: 0.8676 - precision_3: 0.9171\n",
            "Epoch 13: val_loss did not improve from 0.22368\n",
            "30/30 [==============================] - 5s 179ms/step - loss: 0.1889 - dice_coef: 0.8341 - iou: 0.7159 - recall_3: 0.8676 - precision_3: 0.9171 - val_loss: 0.2245 - val_dice_coef: 0.7676 - val_iou: 0.6238 - val_recall_3: 0.8632 - val_precision_3: 0.8919 - lr: 1.0000e-04\n",
            "Epoch 14/50\n",
            "30/30 [==============================] - ETA: 0s - loss: 0.1789 - dice_coef: 0.8382 - iou: 0.7222 - recall_3: 0.8741 - precision_3: 0.9203\n",
            "Epoch 14: val_loss improved from 0.22368 to 0.20056, saving model to /content/Files/model.h5\n",
            "30/30 [==============================] - 5s 180ms/step - loss: 0.1789 - dice_coef: 0.8382 - iou: 0.7222 - recall_3: 0.8741 - precision_3: 0.9203 - val_loss: 0.2006 - val_dice_coef: 0.7837 - val_iou: 0.6450 - val_recall_3: 0.8465 - val_precision_3: 0.9459 - lr: 1.0000e-04\n",
            "Epoch 15/50\n",
            "30/30 [==============================] - ETA: 0s - loss: 0.1779 - dice_coef: 0.8428 - iou: 0.7289 - recall_3: 0.8738 - precision_3: 0.9217\n",
            "Epoch 15: val_loss did not improve from 0.20056\n",
            "30/30 [==============================] - 5s 174ms/step - loss: 0.1779 - dice_coef: 0.8428 - iou: 0.7289 - recall_3: 0.8738 - precision_3: 0.9217 - val_loss: 0.2032 - val_dice_coef: 0.7912 - val_iou: 0.6555 - val_recall_3: 0.8329 - val_precision_3: 0.9371 - lr: 1.0000e-04\n",
            "Epoch 16/50\n",
            "30/30 [==============================] - ETA: 0s - loss: 0.1691 - dice_coef: 0.8469 - iou: 0.7352 - recall_3: 0.8803 - precision_3: 0.9228\n",
            "Epoch 16: val_loss improved from 0.20056 to 0.19080, saving model to /content/Files/model.h5\n",
            "30/30 [==============================] - 6s 184ms/step - loss: 0.1691 - dice_coef: 0.8469 - iou: 0.7352 - recall_3: 0.8803 - precision_3: 0.9228 - val_loss: 0.1908 - val_dice_coef: 0.7951 - val_iou: 0.6605 - val_recall_3: 0.8448 - val_precision_3: 0.9508 - lr: 1.0000e-04\n",
            "Epoch 17/50\n",
            "30/30 [==============================] - ETA: 0s - loss: 0.1688 - dice_coef: 0.8499 - iou: 0.7395 - recall_3: 0.8807 - precision_3: 0.9225\n",
            "Epoch 17: val_loss improved from 0.19080 to 0.19018, saving model to /content/Files/model.h5\n",
            "30/30 [==============================] - 5s 180ms/step - loss: 0.1688 - dice_coef: 0.8499 - iou: 0.7395 - recall_3: 0.8807 - precision_3: 0.9225 - val_loss: 0.1902 - val_dice_coef: 0.8018 - val_iou: 0.6698 - val_recall_3: 0.8165 - val_precision_3: 0.9679 - lr: 1.0000e-04\n",
            "Epoch 18/50\n",
            "30/30 [==============================] - ETA: 0s - loss: 0.1644 - dice_coef: 0.8507 - iou: 0.7408 - recall_3: 0.8841 - precision_3: 0.9226\n",
            "Epoch 18: val_loss improved from 0.19018 to 0.18531, saving model to /content/Files/model.h5\n",
            "30/30 [==============================] - 6s 184ms/step - loss: 0.1644 - dice_coef: 0.8507 - iou: 0.7408 - recall_3: 0.8841 - precision_3: 0.9226 - val_loss: 0.1853 - val_dice_coef: 0.8054 - val_iou: 0.6747 - val_recall_3: 0.8216 - val_precision_3: 0.9687 - lr: 1.0000e-04\n",
            "Epoch 19/50\n",
            "30/30 [==============================] - ETA: 0s - loss: 0.1600 - dice_coef: 0.8557 - iou: 0.7483 - recall_3: 0.8877 - precision_3: 0.9234\n",
            "Epoch 19: val_loss improved from 0.18531 to 0.18154, saving model to /content/Files/model.h5\n",
            "30/30 [==============================] - 5s 180ms/step - loss: 0.1600 - dice_coef: 0.8557 - iou: 0.7483 - recall_3: 0.8877 - precision_3: 0.9234 - val_loss: 0.1815 - val_dice_coef: 0.8128 - val_iou: 0.6852 - val_recall_3: 0.8164 - val_precision_3: 0.9741 - lr: 1.0000e-04\n",
            "Epoch 20/50\n",
            "30/30 [==============================] - ETA: 0s - loss: 0.1591 - dice_coef: 0.8566 - iou: 0.7498 - recall_3: 0.8887 - precision_3: 0.9236\n",
            "Epoch 20: val_loss improved from 0.18154 to 0.17992, saving model to /content/Files/model.h5\n",
            "30/30 [==============================] - 6s 185ms/step - loss: 0.1591 - dice_coef: 0.8566 - iou: 0.7498 - recall_3: 0.8887 - precision_3: 0.9236 - val_loss: 0.1799 - val_dice_coef: 0.8164 - val_iou: 0.6902 - val_recall_3: 0.8134 - val_precision_3: 0.9758 - lr: 1.0000e-04\n",
            "Epoch 21/50\n",
            "30/30 [==============================] - ETA: 0s - loss: 0.1554 - dice_coef: 0.8579 - iou: 0.7518 - recall_3: 0.8907 - precision_3: 0.9245\n",
            "Epoch 21: val_loss improved from 0.17992 to 0.17306, saving model to /content/Files/model.h5\n",
            "30/30 [==============================] - 5s 180ms/step - loss: 0.1554 - dice_coef: 0.8579 - iou: 0.7518 - recall_3: 0.8907 - precision_3: 0.9245 - val_loss: 0.1731 - val_dice_coef: 0.8250 - val_iou: 0.7027 - val_recall_3: 0.8246 - val_precision_3: 0.9721 - lr: 1.0000e-04\n",
            "Epoch 22/50\n",
            "30/30 [==============================] - ETA: 0s - loss: 0.1524 - dice_coef: 0.8605 - iou: 0.7558 - recall_3: 0.8930 - precision_3: 0.9254\n",
            "Epoch 22: val_loss improved from 0.17306 to 0.16894, saving model to /content/Files/model.h5\n",
            "30/30 [==============================] - 5s 180ms/step - loss: 0.1524 - dice_coef: 0.8605 - iou: 0.7558 - recall_3: 0.8930 - precision_3: 0.9254 - val_loss: 0.1689 - val_dice_coef: 0.8286 - val_iou: 0.7080 - val_recall_3: 0.8283 - val_precision_3: 0.9720 - lr: 1.0000e-04\n",
            "Epoch 23/50\n",
            "30/30 [==============================] - ETA: 0s - loss: 0.1479 - dice_coef: 0.8646 - iou: 0.7620 - recall_3: 0.8954 - precision_3: 0.9267\n",
            "Epoch 23: val_loss improved from 0.16894 to 0.16394, saving model to /content/Files/model.h5\n",
            "30/30 [==============================] - 6s 185ms/step - loss: 0.1479 - dice_coef: 0.8646 - iou: 0.7620 - recall_3: 0.8954 - precision_3: 0.9267 - val_loss: 0.1639 - val_dice_coef: 0.8358 - val_iou: 0.7185 - val_recall_3: 0.8357 - val_precision_3: 0.9693 - lr: 1.0000e-04\n",
            "Epoch 24/50\n",
            "30/30 [==============================] - ETA: 0s - loss: 0.1467 - dice_coef: 0.8657 - iou: 0.7637 - recall_3: 0.8966 - precision_3: 0.9272\n",
            "Epoch 24: val_loss improved from 0.16394 to 0.16018, saving model to /content/Files/model.h5\n",
            "30/30 [==============================] - 6s 186ms/step - loss: 0.1467 - dice_coef: 0.8657 - iou: 0.7637 - recall_3: 0.8966 - precision_3: 0.9272 - val_loss: 0.1602 - val_dice_coef: 0.8402 - val_iou: 0.7250 - val_recall_3: 0.8385 - val_precision_3: 0.9695 - lr: 1.0000e-04\n",
            "Epoch 25/50\n",
            "30/30 [==============================] - ETA: 0s - loss: 0.1458 - dice_coef: 0.8667 - iou: 0.7655 - recall_3: 0.8959 - precision_3: 0.9289\n",
            "Epoch 25: val_loss improved from 0.16018 to 0.15981, saving model to /content/Files/model.h5\n",
            "30/30 [==============================] - 5s 180ms/step - loss: 0.1458 - dice_coef: 0.8667 - iou: 0.7655 - recall_3: 0.8959 - precision_3: 0.9289 - val_loss: 0.1598 - val_dice_coef: 0.8472 - val_iou: 0.7355 - val_recall_3: 0.8375 - val_precision_3: 0.9711 - lr: 1.0000e-04\n",
            "Epoch 26/50\n",
            "30/30 [==============================] - ETA: 0s - loss: 0.1420 - dice_coef: 0.8698 - iou: 0.7702 - recall_3: 0.8990 - precision_3: 0.9300\n",
            "Epoch 26: val_loss improved from 0.15981 to 0.15884, saving model to /content/Files/model.h5\n",
            "30/30 [==============================] - 6s 185ms/step - loss: 0.1420 - dice_coef: 0.8698 - iou: 0.7702 - recall_3: 0.8990 - precision_3: 0.9300 - val_loss: 0.1588 - val_dice_coef: 0.8510 - val_iou: 0.7413 - val_recall_3: 0.8480 - val_precision_3: 0.9612 - lr: 1.0000e-04\n",
            "Epoch 27/50\n",
            "30/30 [==============================] - ETA: 0s - loss: 0.1396 - dice_coef: 0.8708 - iou: 0.7718 - recall_3: 0.9007 - precision_3: 0.9292\n",
            "Epoch 27: val_loss did not improve from 0.15884\n",
            "30/30 [==============================] - 5s 173ms/step - loss: 0.1396 - dice_coef: 0.8708 - iou: 0.7718 - recall_3: 0.9007 - precision_3: 0.9292 - val_loss: 0.1601 - val_dice_coef: 0.8491 - val_iou: 0.7383 - val_recall_3: 0.8418 - val_precision_3: 0.9656 - lr: 1.0000e-04\n",
            "Epoch 28/50\n",
            "30/30 [==============================] - ETA: 0s - loss: 0.1380 - dice_coef: 0.8733 - iou: 0.7757 - recall_3: 0.9013 - precision_3: 0.9307\n",
            "Epoch 28: val_loss did not improve from 0.15884\n",
            "30/30 [==============================] - 5s 173ms/step - loss: 0.1380 - dice_coef: 0.8733 - iou: 0.7757 - recall_3: 0.9013 - precision_3: 0.9307 - val_loss: 0.1609 - val_dice_coef: 0.8509 - val_iou: 0.7412 - val_recall_3: 0.8404 - val_precision_3: 0.9672 - lr: 1.0000e-04\n",
            "Epoch 29/50\n",
            "30/30 [==============================] - ETA: 0s - loss: 0.1364 - dice_coef: 0.8747 - iou: 0.7778 - recall_3: 0.9029 - precision_3: 0.9320\n",
            "Epoch 29: val_loss did not improve from 0.15884\n",
            "30/30 [==============================] - 5s 179ms/step - loss: 0.1364 - dice_coef: 0.8747 - iou: 0.7778 - recall_3: 0.9029 - precision_3: 0.9320 - val_loss: 0.1614 - val_dice_coef: 0.8496 - val_iou: 0.7392 - val_recall_3: 0.8438 - val_precision_3: 0.9633 - lr: 1.0000e-04\n",
            "Epoch 30/50\n",
            "30/30 [==============================] - ETA: 0s - loss: 0.1354 - dice_coef: 0.8749 - iou: 0.7782 - recall_3: 0.9038 - precision_3: 0.9319\n",
            "Epoch 30: val_loss did not improve from 0.15884\n",
            "30/30 [==============================] - 5s 175ms/step - loss: 0.1354 - dice_coef: 0.8749 - iou: 0.7782 - recall_3: 0.9038 - precision_3: 0.9319 - val_loss: 0.1595 - val_dice_coef: 0.8555 - val_iou: 0.7481 - val_recall_3: 0.8490 - val_precision_3: 0.9605 - lr: 1.0000e-04\n",
            "Epoch 31/50\n",
            "30/30 [==============================] - ETA: 0s - loss: 0.1347 - dice_coef: 0.8759 - iou: 0.7799 - recall_3: 0.9039 - precision_3: 0.9324\n",
            "Epoch 31: val_loss did not improve from 0.15884\n",
            "\n",
            "Epoch 31: ReduceLROnPlateau reducing learning rate to 9.999999747378752e-06.\n",
            "30/30 [==============================] - 5s 173ms/step - loss: 0.1347 - dice_coef: 0.8759 - iou: 0.7799 - recall_3: 0.9039 - precision_3: 0.9324 - val_loss: 0.1591 - val_dice_coef: 0.8585 - val_iou: 0.7528 - val_recall_3: 0.8620 - val_precision_3: 0.9480 - lr: 1.0000e-04\n",
            "Epoch 32/50\n",
            "30/30 [==============================] - ETA: 0s - loss: 0.1291 - dice_coef: 0.8846 - iou: 0.7934 - recall_3: 0.9146 - precision_3: 0.9268\n",
            "Epoch 32: val_loss did not improve from 0.15884\n",
            "30/30 [==============================] - 5s 179ms/step - loss: 0.1291 - dice_coef: 0.8846 - iou: 0.7934 - recall_3: 0.9146 - precision_3: 0.9268 - val_loss: 0.1622 - val_dice_coef: 0.8473 - val_iou: 0.7357 - val_recall_3: 0.8545 - val_precision_3: 0.9489 - lr: 1.0000e-05\n",
            "Epoch 33/50\n",
            "30/30 [==============================] - ETA: 0s - loss: 0.1240 - dice_coef: 0.8837 - iou: 0.7919 - recall_3: 0.9115 - precision_3: 0.9358\n",
            "Epoch 33: val_loss did not improve from 0.15884\n",
            "30/30 [==============================] - 5s 180ms/step - loss: 0.1240 - dice_coef: 0.8837 - iou: 0.7919 - recall_3: 0.9115 - precision_3: 0.9358 - val_loss: 0.1668 - val_dice_coef: 0.8440 - val_iou: 0.7309 - val_recall_3: 0.8572 - val_precision_3: 0.9375 - lr: 1.0000e-05\n",
            "Epoch 34/50\n",
            "30/30 [==============================] - ETA: 0s - loss: 0.1241 - dice_coef: 0.8839 - iou: 0.7924 - recall_3: 0.9112 - precision_3: 0.9356\n",
            "Epoch 34: val_loss did not improve from 0.15884\n",
            "30/30 [==============================] - 5s 180ms/step - loss: 0.1241 - dice_coef: 0.8839 - iou: 0.7924 - recall_3: 0.9112 - precision_3: 0.9356 - val_loss: 0.1665 - val_dice_coef: 0.8456 - val_iou: 0.7332 - val_recall_3: 0.8543 - val_precision_3: 0.9410 - lr: 1.0000e-05\n",
            "Epoch 35/50\n",
            "30/30 [==============================] - ETA: 0s - loss: 0.1242 - dice_coef: 0.8840 - iou: 0.7924 - recall_3: 0.9113 - precision_3: 0.9355\n",
            "Epoch 35: val_loss did not improve from 0.15884\n",
            "30/30 [==============================] - 5s 175ms/step - loss: 0.1242 - dice_coef: 0.8840 - iou: 0.7924 - recall_3: 0.9113 - precision_3: 0.9355 - val_loss: 0.1665 - val_dice_coef: 0.8465 - val_iou: 0.7346 - val_recall_3: 0.8539 - val_precision_3: 0.9413 - lr: 1.0000e-05\n",
            "Epoch 36/50\n",
            "30/30 [==============================] - ETA: 0s - loss: 0.1238 - dice_coef: 0.8848 - iou: 0.7936 - recall_3: 0.9113 - precision_3: 0.9358\n",
            "Epoch 36: val_loss did not improve from 0.15884\n",
            "\n",
            "Epoch 36: ReduceLROnPlateau reducing learning rate to 9.999999747378752e-07.\n",
            "30/30 [==============================] - 5s 180ms/step - loss: 0.1238 - dice_coef: 0.8848 - iou: 0.7936 - recall_3: 0.9113 - precision_3: 0.9358 - val_loss: 0.1670 - val_dice_coef: 0.8474 - val_iou: 0.7360 - val_recall_3: 0.8513 - val_precision_3: 0.9437 - lr: 1.0000e-05\n"
          ]
        },
        {
          "output_type": "execute_result",
          "data": {
            "text/plain": [
              "<keras.callbacks.History at 0x7f59113af490>"
            ]
          },
          "metadata": {},
          "execution_count": 38
        }
      ]
    },
    {
      "cell_type": "code",
      "source": [
        "model.save('Unet.hdf5')"
      ],
      "metadata": {
        "id": "30oV9ZlGVm3w"
      },
      "execution_count": null,
      "outputs": []
    },
    {
      "cell_type": "code",
      "source": [
        "!mkdir results\n",
        "from tqdm import tqdm"
      ],
      "metadata": {
        "id": "H7RmOic68Obo"
      },
      "execution_count": null,
      "outputs": []
    },
    {
      "cell_type": "code",
      "source": [
        "def read_test_image(path):\n",
        "    x = cv2.imread(path, cv2.IMREAD_COLOR)  ## (H, W, 3)\n",
        "    x = cv2.resize(x, (W, H))\n",
        "    ori_x = x\n",
        "    x = x/255.0\n",
        "    x = x.astype(np.float32)\n",
        "    x = np.expand_dims(x, axis=0)\n",
        "    return ori_x, x                                ## (1, 256, 256, 3)\n",
        "\n",
        "\n",
        "def read_test_mask(path):\n",
        "    x = cv2.imread(path, cv2.IMREAD_GRAYSCALE)  ## (H, W)\n",
        "    x = cv2.resize(x, (W, H))\n",
        "    ori_x = x\n",
        "    x = x/255.0\n",
        "    x = x.astype(np.int32)                    ## (256, 256)\n",
        "    return ori_x, x"
      ],
      "metadata": {
        "id": "lioABJ-S8TZy"
      },
      "execution_count": null,
      "outputs": []
    },
    {
      "cell_type": "code",
      "source": [
        "model.compile(loss=\"binary_crossentropy\", optimizer=Adam(lr), metrics=metrics)\n",
        "model.load_weights('/content/Unet.hdf5')"
      ],
      "metadata": {
        "id": "vuIz977y8Vlq"
      },
      "execution_count": null,
      "outputs": []
    },
    {
      "cell_type": "code",
      "source": [
        "res=model.evaluate(train_dataset, steps=test_steps)\n",
        "print('\\n-------------On Train  Set--------------------------\\n')\n",
        "print('________________________')\n",
        "print('Dice Coef:      |   {:.2f}  |'.format(res[1]*100))\n",
        "print('IoU:            |   {:.2f}  |'.format(res[2]*100))\n",
        "print('Recall:         |   {:.2f}  |'.format(res[3]*100))\n",
        "print('Precision:      |   {:.2f}  |'.format(res[4]*100))\n",
        "print('________________________')\n",
        "res=model.evaluate(test_dataset, steps=test_steps)\n",
        "print('\\n-------------On Test  Set--------------------------\\n')\n",
        "print('________________________')\n",
        "print('Dice Coef:      |   {:.2f}  |'.format(res[1]*100))\n",
        "print('IoU:            |   {:.2f}  |'.format(res[2]*100))\n",
        "print('Recall:         |   {:.2f}  |'.format(res[3]*100))\n",
        "print('Precision:      |   {:.2f}  |'.format(res[4]*100))\n",
        "print('________________________')\n",
        "res=model.evaluate(valid_dataset, steps=test_steps)\n",
        "print('\\n-------------On valid  Set--------------------------\\n')\n",
        "print('________________________')\n",
        "print('Dice Coef:      |   {:.2f}  |'.format(res[1]*100))\n",
        "print('IoU:            |   {:.2f}  |'.format(res[2]*100))\n",
        "print('Recall:         |   {:.2f}  |'.format(res[3]*100))\n",
        "print('Precision:      |   {:.2f}  |'.format(res[4]*100))\n",
        "print('________________________')"
      ],
      "metadata": {
        "colab": {
          "base_uri": "https://localhost:8080/"
        },
        "id": "Q69ZpGvd8Yon",
        "outputId": "6d729061-d8f6-4ed4-8a9f-a20a87d426d6"
      },
      "execution_count": null,
      "outputs": [
        {
          "output_type": "stream",
          "name": "stdout",
          "text": [
            "10/10 [==============================] - 1s 59ms/step - loss: 0.1664 - dice_coef: 0.8478 - iou: 0.7362 - recall_3: 0.8520 - precision_3: 0.9377\n",
            "\n",
            "-------------On Train  Set--------------------------\n",
            "\n",
            "________________________\n",
            "Dice Coef:      |   84.78  |\n",
            "IoU:            |   73.62  |\n",
            "Recall:         |   85.20  |\n",
            "Precision:      |   93.77  |\n",
            "________________________\n",
            "10/10 [==============================] - 1s 49ms/step - loss: 0.1912 - dice_coef: 0.8352 - iou: 0.7186 - recall_3: 0.8399 - precision_3: 0.9276\n",
            "\n",
            "-------------On Test  Set--------------------------\n",
            "\n",
            "________________________\n",
            "Dice Coef:      |   83.52  |\n",
            "IoU:            |   71.86  |\n",
            "Recall:         |   83.99  |\n",
            "Precision:      |   92.76  |\n",
            "________________________\n",
            "10/10 [==============================] - 1s 50ms/step - loss: 0.1670 - dice_coef: 0.8474 - iou: 0.7360 - recall_3: 0.8513 - precision_3: 0.9437\n",
            "\n",
            "-------------On valid  Set--------------------------\n",
            "\n",
            "________________________\n",
            "Dice Coef:      |   84.74  |\n",
            "IoU:            |   73.60  |\n",
            "Recall:         |   85.13  |\n",
            "Precision:      |   94.37  |\n",
            "________________________\n"
          ]
        }
      ]
    }
  ]
}